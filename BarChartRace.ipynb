{
 "cells": [
  {
   "cell_type": "code",
   "execution_count": 4,
   "metadata": {},
   "outputs": [],
   "source": [
    "import pandas as pd\n",
    "# import bar_chart_race as bcr"
   ]
  },
  {
   "cell_type": "markdown",
   "metadata": {},
   "source": [
    "## Index Value Racing Chart"
   ]
  },
  {
   "cell_type": "code",
   "execution_count": 5,
   "metadata": {},
   "outputs": [],
   "source": [
    "import pandas as pd\n",
    "import plotly.express as px\n",
    "import plotly.io as pio\n",
    "import imageio\n",
    "import time\n",
    "\n",
    "start_time = time.time()\n",
    "\n",
    "data = pd.read_csv('D:/brokerturnover2016-2023.csv')\n",
    "data['Date'] = pd.to_datetime(data['Date'], format=\"%m/%d/%Y\")\n",
    "data.sort_values(by = ['Date'])\n",
    "data['Total Amount (Rs.)'] = data['Total Amount (Rs.)'].replace(',', '', regex= True).astype(float)\n",
    "pivot = pd.pivot_table(data, values = 'Total Amount (Rs.)', index = 'Date', columns = 'Broker Name' )\n",
    "cummulative_figure = pivot.cumsum()"
   ]
  },
  {
   "cell_type": "code",
   "execution_count": 8,
   "metadata": {
    "scrolled": true
   },
   "outputs": [
    {
     "data": {
      "text/plain": [
       "616"
      ]
     },
     "execution_count": 8,
     "metadata": {},
     "output_type": "execute_result"
    }
   ],
   "source": [
    "len(cummulative_figure)"
   ]
  },
  {
   "cell_type": "code",
   "execution_count": 12,
   "metadata": {
    "scrolled": true
   },
   "outputs": [
    {
     "name": "stderr",
     "output_type": "stream",
     "text": [
      "C:\\Users\\arun.lama\\Anaconda3\\lib\\site-packages\\bar_chart_race\\_make_chart.py:286: UserWarning: FixedFormatter should only be used together with FixedLocator\n",
      "  ax.set_yticklabels(self.df_values.columns)\n",
      "C:\\Users\\arun.lama\\Anaconda3\\lib\\site-packages\\bar_chart_race\\_make_chart.py:287: UserWarning: FixedFormatter should only be used together with FixedLocator\n",
      "  ax.set_xticklabels([max_val] * len(ax.get_xticks()))\n"
     ]
    }
   ],
   "source": [
    "start_time = time.time()\n",
    "import bar_chart_race as bcr\n",
    "bcr.bar_chart_race(\n",
    "    df=cummulative_figure,\n",
    "    filename= 'brokerTurnover.mp4',\n",
    "    orientation='h',\n",
    "    sort='desc',\n",
    "    n_bars=25,\n",
    "    fixed_order=False,\n",
    "    fixed_max=False,\n",
    "    steps_per_period=10,\n",
    "    interpolate_period=False,\n",
    "    label_bars=True,\n",
    "    bar_size=.70,\n",
    "    period_label={'x': .99, 'y': .25, 'ha': 'right', 'va': 'center'},\n",
    "    period_fmt= '%B %d, %Y',\n",
    "#     period_summary_func=lambda v, r: {'x': .99, 'y': .18,\n",
    "#                                       's': f'Total deaths: {v.nlargest(6).sum():,.0f}',\n",
    "#                                       'ha': 'right', 'size': 8, 'family': 'Courier New'},\n",
    "#     perpendicular_bar_func='median',\n",
    "    period_length=400, #period_length : int, default 500 Number of milliseconds to animate each period (row). Default is 500ms (half of a second)\n",
    "    figsize=(5, 3),\n",
    "    dpi=500,\n",
    "    cmap='D3',\n",
    "    title=f'Cummulative Brokerwise Turnover : Oct 2016 - May 2023',\n",
    "    title_size='',\n",
    "    bar_label_size=4,\n",
    "    tick_label_size=4,\n",
    "    shared_fontdict={'family' : 'Helvetica', 'color' : '.1'},\n",
    "    scale='linear',\n",
    "    writer=None,\n",
    "    fig=None,\n",
    "    bar_kwargs={'alpha': .7},\n",
    "    filter_column_colors=True) "
   ]
  },
  {
   "cell_type": "code",
   "execution_count": 13,
   "metadata": {},
   "outputs": [
    {
     "name": "stdout",
     "output_type": "stream",
     "text": [
      "Completed in 844.89 Seconds\n"
     ]
    }
   ],
   "source": [
    "print(f'Completed in {round((time.time() - start_time),2)} Seconds')"
   ]
  }
 ],
 "metadata": {
  "kernelspec": {
   "display_name": "Python 3 (ipykernel)",
   "language": "python",
   "name": "python3"
  },
  "language_info": {
   "codemirror_mode": {
    "name": "ipython",
    "version": 3
   },
   "file_extension": ".py",
   "mimetype": "text/x-python",
   "name": "python",
   "nbconvert_exporter": "python",
   "pygments_lexer": "ipython3",
   "version": "3.11.3"
  }
 },
 "nbformat": 4,
 "nbformat_minor": 4
}
